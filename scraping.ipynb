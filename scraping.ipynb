{
 "cells": [
  {
   "cell_type": "markdown",
   "id": "3259d78b-9afb-4344-b156-2791ac9e49ae",
   "metadata": {
    "tags": []
   },
   "source": [
    "# The Web Crawlers for Extracting UK Parliamentary Questions\n",
    "- author: davidycliao\n",
    "- email : davidycliao@gmail.com\n",
    "- date  : 29-Dec-2021\n",
    "- info  : LACAN Project (Legislators between Accountability and Collective Agency) @ University of Bamberg "
   ]
  },
  {
   "cell_type": "markdown",
   "id": "5d8b47e9-b881-4188-a7ba-ed2aa14e332b",
   "metadata": {},
   "source": [
    "<mxGraphModel dx=\"1710\" dy=\"1887\" grid=\"1\" gridSize=\"10\" guides=\"1\" tooltips=\"1\" connect=\"1\" arrows=\"1\" fold=\"1\" page=\"1\" pageScale=\"1\" pageWidth=\"850\" pageHeight=\"1100\" background=\"#ffffff\"><root><mxCell id=\"0\"/><mxCell id=\"1\" parent=\"0\"/><mxCell id=\"106\" value=\"\" style=\"group;shadow=1;\" vertex=\"1\" connectable=\"0\" parent=\"1\"><mxGeometry x=\"-841\" y=\"-800\" width=\"649\" height=\"525\" as=\"geometry\"/></mxCell><mxCell id=\"59\" value=\"\" style=\"shape=mxgraph.flowchart.annotation_2;whiteSpace=wrap;html=1;fillColor=#ffffff;strokeColor=#000000;strokeWidth=2;shadow=1;\" vertex=\"1\" parent=\"106\"><mxGeometry x=\"181\" y=\"180\" width=\"320\" height=\"110\" as=\"geometry\"/></mxCell><mxCell id=\"2\" value=\"&lt;div&gt;&lt;span&gt;&lt;font&gt;&lt;b&gt;&lt;br&gt;&lt;/b&gt;&lt;/font&gt;&lt;/span&gt;&lt;/div&gt;&lt;div&gt;&lt;span&gt;&lt;font&gt;&lt;b&gt;&lt;br&gt;&lt;/b&gt;&lt;/font&gt;&lt;/span&gt;&lt;/div&gt;&lt;h2&gt;Parliament of the United Kingdom&lt;/h2&gt;&lt;div&gt;&lt;h2&gt;&lt;br&gt;&lt;/h2&gt;&lt;/div&gt;\" style=\"rounded=1;whiteSpace=wrap;html=1;fillColor=#FF3333;shadow=1;strokeWidth=2;\" parent=\"106\" vertex=\"1\"><mxGeometry y=\"80\" width=\"190\" height=\"71\" as=\"geometry\"/></mxCell><mxCell id=\"5\" value=\"&lt;h2&gt;Scottish Parliament&lt;/h2&gt;\" style=\"rounded=1;whiteSpace=wrap;html=1;fillColor=#3399FF;shadow=1;strokeWidth=2;\" parent=\"106\" vertex=\"1\"><mxGeometry x=\"1\" y=\"199\" width=\"190\" height=\"70\" as=\"geometry\"/></mxCell><mxCell id=\"9\" value=\"&lt;font style=&quot;font-size: 14px&quot;&gt;&lt;b&gt;The House of Common&lt;/b&gt;&lt;/font&gt;\" style=\"rounded=0;whiteSpace=wrap;html=1;shadow=1;strokeWidth=2;\" parent=\"106\" vertex=\"1\"><mxGeometry x=\"291\" y=\"69\" width=\"150\" height=\"40\" as=\"geometry\"/></mxCell><mxCell id=\"10\" value=\"&lt;font style=&quot;font-size: 14px&quot;&gt;&lt;b&gt;The House of Lord&lt;/b&gt;&lt;/font&gt;\" style=\"rounded=0;whiteSpace=wrap;html=1;shadow=1;strokeWidth=2;\" parent=\"106\" vertex=\"1\"><mxGeometry x=\"291\" y=\"118\" width=\"150\" height=\"40\" as=\"geometry\"/></mxCell><mxCell id=\"12\" value=\"Session 1\" style=\"rounded=0;whiteSpace=wrap;html=1;shadow=1;strokeWidth=2;fontStyle=1\" parent=\"106\" vertex=\"1\"><mxGeometry x=\"499\" y=\"172\" width=\"150\" height=\"17\" as=\"geometry\"/></mxCell><mxCell id=\"28\" value=\"&lt;font style=&quot;font-size: 14px&quot;&gt;&lt;b&gt;&lt;span&gt;June 2014 -&amp;nbsp;&lt;/span&gt;Dec 2021&lt;/b&gt;&lt;/font&gt;\" style=\"rounded=0;whiteSpace=wrap;html=1;shadow=1;strokeWidth=2;\" parent=\"106\" vertex=\"1\"><mxGeometry x=\"499\" y=\"70\" width=\"150\" height=\"40\" as=\"geometry\"/></mxCell><mxCell id=\"29\" value=\"&lt;font style=&quot;font-size: 14px&quot;&gt;&lt;b&gt;June 2014 -&amp;nbsp;Dec 2021&lt;/b&gt;&lt;/font&gt;\" style=\"rounded=0;whiteSpace=wrap;html=1;shadow=1;strokeWidth=2;\" parent=\"106\" vertex=\"1\"><mxGeometry x=\"499\" y=\"119\" width=\"150\" height=\"40\" as=\"geometry\"/></mxCell><mxCell id=\"38\" value=\"Session&amp;nbsp;2\" style=\"rounded=0;whiteSpace=wrap;html=1;shadow=1;strokeWidth=2;fontStyle=1\" parent=\"106\" vertex=\"1\"><mxGeometry x=\"499\" y=\"195\" width=\"150\" height=\"17\" as=\"geometry\"/></mxCell><mxCell id=\"39\" value=\"Session&amp;nbsp;3\" style=\"rounded=0;whiteSpace=wrap;html=1;shadow=1;strokeWidth=2;fontStyle=1\" parent=\"106\" vertex=\"1\"><mxGeometry x=\"499\" y=\"217\" width=\"150\" height=\"17\" as=\"geometry\"/></mxCell><mxCell id=\"40\" value=\"Session&amp;nbsp;4\" style=\"rounded=0;whiteSpace=wrap;html=1;shadow=1;strokeWidth=2;fontStyle=1\" parent=\"106\" vertex=\"1\"><mxGeometry x=\"499\" y=\"239\" width=\"150\" height=\"17\" as=\"geometry\"/></mxCell><mxCell id=\"41\" value=\"Session&amp;nbsp;5\" style=\"rounded=0;whiteSpace=wrap;html=1;shadow=1;strokeWidth=2;fontStyle=1\" parent=\"106\" vertex=\"1\"><mxGeometry x=\"499\" y=\"261\" width=\"150\" height=\"17\" as=\"geometry\"/></mxCell><mxCell id=\"42\" value=\"Session 6\" style=\"rounded=0;whiteSpace=wrap;html=1;shadow=1;strokeWidth=2;fontStyle=1\" parent=\"106\" vertex=\"1\"><mxGeometry x=\"499\" y=\"283\" width=\"150\" height=\"17\" as=\"geometry\"/></mxCell><mxCell id=\"60\" value=\"\" style=\"shape=mxgraph.flowchart.annotation_2;whiteSpace=wrap;html=1;fillColor=#ffffff;strokeColor=#000000;strokeWidth=2;shadow=1;\" vertex=\"1\" parent=\"106\"><mxGeometry x=\"191\" y=\"90\" width=\"100\" height=\"50\" as=\"geometry\"/></mxCell><mxCell id=\"66\" value=\"\" style=\"endArrow=none;html=1;shadow=1;entryX=0;entryY=0.5;labelBorderColor=#000000;spacing=20;fontSize=20;strokeWidth=2;\" edge=\"1\" parent=\"106\" target=\"28\"><mxGeometry width=\"50\" height=\"50\" relative=\"1\" as=\"geometry\"><mxPoint x=\"441\" y=\"90\" as=\"sourcePoint\"/><mxPoint x=\"481\" y=\"54\" as=\"targetPoint\"/></mxGeometry></mxCell><mxCell id=\"70\" value=\"\" style=\"endArrow=none;html=1;shadow=1;entryX=0;entryY=0.5;labelBorderColor=#000000;spacing=20;fontSize=20;strokeWidth=2;\" edge=\"1\" parent=\"106\"><mxGeometry width=\"50\" height=\"50\" relative=\"1\" as=\"geometry\"><mxPoint x=\"441\" y=\"140\" as=\"sourcePoint\"/><mxPoint x=\"499\" y=\"140\" as=\"targetPoint\"/></mxGeometry></mxCell><mxCell id=\"73\" value=\"&lt;div style=&quot;text-align: center&quot;&gt;&lt;b style=&quot;letter-spacing: 0px&quot;&gt;The Flowchart of Scrapers for&amp;nbsp;&lt;/b&gt;&lt;/div&gt;&lt;div style=&quot;text-align: center&quot;&gt;&lt;b&gt;Extracting Parliamentary Questions&amp;nbsp;&lt;/b&gt;&lt;/div&gt;\" style=\"text;html=1;resizable=0;points=[];autosize=1;align=left;verticalAlign=top;spacingTop=-4;fontSize=20;shadow=1;\" vertex=\"1\" parent=\"106\"><mxGeometry x=\"161\" width=\"360\" height=\"50\" as=\"geometry\"/></mxCell><mxCell id=\"75\" value=\"&lt;h2&gt;&lt;span style=&quot;letter-spacing: 0px&quot;&gt;&lt;font style=&quot;font-size: 18px&quot;&gt;The Northern Ireland Assembly&lt;/font&gt;&lt;/span&gt;&lt;br&gt;&lt;/h2&gt;\" style=\"rounded=1;whiteSpace=wrap;html=1;fillColor=#00CC00;shadow=1;strokeWidth=2;\" vertex=\"1\" parent=\"106\"><mxGeometry x=\"10\" y=\"382\" width=\"190\" height=\"70\" as=\"geometry\"/></mxCell><mxCell id=\"82\" value=\"\" style=\"shape=mxgraph.flowchart.annotation_2;whiteSpace=wrap;html=1;fillColor=#ffffff;strokeColor=#000000;strokeWidth=2;shadow=1;\" vertex=\"1\" parent=\"106\"><mxGeometry x=\"201\" y=\"320\" width=\"300\" height=\"200\" as=\"geometry\"/></mxCell><mxCell id=\"89\" value=\"2006-2007\" style=\"rounded=0;whiteSpace=wrap;html=1;shadow=1;strokeWidth=2;fontStyle=1\" vertex=\"1\" parent=\"106\"><mxGeometry x=\"497\" y=\"308\" width=\"150\" height=\"17\" as=\"geometry\"/></mxCell><mxCell id=\"90\" value=\"2007-2008\" style=\"rounded=0;whiteSpace=wrap;html=1;shadow=1;strokeWidth=2;fontStyle=1\" vertex=\"1\" parent=\"106\"><mxGeometry x=\"497\" y=\"331\" width=\"150\" height=\"17\" as=\"geometry\"/></mxCell><mxCell id=\"91\" value=\"2008-2009\" style=\"rounded=0;whiteSpace=wrap;html=1;shadow=1;strokeWidth=2;fontStyle=1\" vertex=\"1\" parent=\"106\"><mxGeometry x=\"497\" y=\"353\" width=\"150\" height=\"17\" as=\"geometry\"/></mxCell><mxCell id=\"92\" value=\"2009-2010\" style=\"rounded=0;whiteSpace=wrap;html=1;shadow=1;strokeWidth=2;fontStyle=1\" vertex=\"1\" parent=\"106\"><mxGeometry x=\"497\" y=\"375\" width=\"150\" height=\"17\" as=\"geometry\"/></mxCell><mxCell id=\"93\" value=\"2010-2011\" style=\"rounded=0;whiteSpace=wrap;html=1;shadow=1;strokeWidth=2;fontStyle=1\" vertex=\"1\" parent=\"106\"><mxGeometry x=\"497\" y=\"397\" width=\"150\" height=\"17\" as=\"geometry\"/></mxCell><mxCell id=\"94\" value=\"2011-2012\" style=\"rounded=0;whiteSpace=wrap;html=1;shadow=1;strokeWidth=2;fontStyle=1\" vertex=\"1\" parent=\"106\"><mxGeometry x=\"497\" y=\"419\" width=\"150\" height=\"17\" as=\"geometry\"/></mxCell><mxCell id=\"95\" value=\"2013-2014\" style=\"rounded=0;whiteSpace=wrap;html=1;shadow=1;strokeWidth=2;fontStyle=1\" vertex=\"1\" parent=\"106\"><mxGeometry x=\"497\" y=\"442\" width=\"150\" height=\"17\" as=\"geometry\"/></mxCell><mxCell id=\"96\" value=\"2015-2016\" style=\"rounded=0;whiteSpace=wrap;html=1;shadow=1;strokeWidth=2;fontStyle=1\" vertex=\"1\" parent=\"106\"><mxGeometry x=\"497\" y=\"464\" width=\"150\" height=\"17\" as=\"geometry\"/></mxCell><mxCell id=\"97\" value=\"2017-2018\" style=\"rounded=0;whiteSpace=wrap;html=1;shadow=1;strokeWidth=2;fontStyle=1\" vertex=\"1\" parent=\"106\"><mxGeometry x=\"497\" y=\"486\" width=\"150\" height=\"17\" as=\"geometry\"/></mxCell><mxCell id=\"99\" value=\"2019-2020\" style=\"rounded=0;whiteSpace=wrap;html=1;shadow=1;strokeWidth=2;fontStyle=1\" vertex=\"1\" parent=\"106\"><mxGeometry x=\"498\" y=\"508\" width=\"150\" height=\"17\" as=\"geometry\"/></mxCell><mxCell id=\"101\" value=\"&lt;h1&gt;&lt;span&gt;🏴󠁧󠁢󠁥󠁮󠁧󠁿&lt;/span&gt;&lt;/h1&gt;\" style=\"text;html=1;strokeColor=none;fillColor=none;align=center;verticalAlign=middle;whiteSpace=wrap;rounded=0;shadow=1;dashed=1;fontSize=20;\" vertex=\"1\" parent=\"106\"><mxGeometry y=\"71\" width=\"40\" height=\"10\" as=\"geometry\"/></mxCell><mxCell id=\"103\" value=\"&lt;h1&gt;&lt;span&gt;🏴󠁧󠁢󠁳󠁣󠁴󠁿&lt;/span&gt;&lt;/h1&gt;\" style=\"text;html=1;strokeColor=none;fillColor=none;align=center;verticalAlign=middle;whiteSpace=wrap;rounded=0;shadow=1;dashed=1;fontSize=20;\" vertex=\"1\" parent=\"106\"><mxGeometry y=\"189\" width=\"40\" height=\"10\" as=\"geometry\"/></mxCell></root></mxGraphModel>"
   ]
  },
  {
   "cell_type": "markdown",
   "id": "dbc5e407-9a8f-4343-a381-9b591a80fa3c",
   "metadata": {
    "execution": {
     "iopub.execute_input": "2021-12-29T07:19:12.950591Z",
     "iopub.status.busy": "2021-12-29T07:19:12.950330Z",
     "iopub.status.idle": "2021-12-29T07:19:13.087539Z",
     "shell.execute_reply": "2021-12-29T07:19:13.086399Z",
     "shell.execute_reply.started": "2021-12-29T07:19:12.950564Z"
    },
    "tags": []
   },
   "source": [
    "<p align=\"center\">\n",
    "    <img src=\"flowchart.png\"  style=\"width:570px;\"/>\n",
    "</p>\n"
   ]
  },
  {
   "cell_type": "markdown",
   "id": "9a814e14-3cda-4c34-9334-b6cecefc4976",
   "metadata": {
    "execution": {
     "iopub.execute_input": "2021-12-29T07:26:06.441219Z",
     "iopub.status.busy": "2021-12-29T07:26:06.440859Z",
     "iopub.status.idle": "2021-12-29T07:26:06.444239Z",
     "shell.execute_reply": "2021-12-29T07:26:06.443485Z",
     "shell.execute_reply.started": "2021-12-29T07:26:06.441194Z"
    },
    "tags": []
   },
   "source": [
    "## Dependencies "
   ]
  },
  {
   "cell_type": "code",
   "execution_count": null,
   "id": "287dde51-6394-409f-a699-f38ca878b962",
   "metadata": {
    "tags": []
   },
   "outputs": [],
   "source": [
    "pip install -r requirements.txt "
   ]
  },
  {
   "cell_type": "markdown",
   "id": "b290d8c3-5adc-4680-9360-9f7ea9c2c718",
   "metadata": {},
   "source": [
    "## Run England (June 2014 - Dec 2021)"
   ]
  },
  {
   "cell_type": "markdown",
   "id": "0bced396-3f20-4802-8df0-87e37ed3d9f5",
   "metadata": {
    "execution": {
     "iopub.execute_input": "2022-01-11T12:29:00.091650Z",
     "iopub.status.busy": "2022-01-11T12:29:00.090874Z",
     "iopub.status.idle": "2022-01-11T12:29:00.097240Z",
     "shell.execute_reply": "2022-01-11T12:29:00.096544Z",
     "shell.execute_reply.started": "2022-01-11T12:29:00.091591Z"
    }
   },
   "source": [
    "### The House of Commons \n",
    "- data file: house_of_commons.csv\n",
    "- record: house_of_commons.txt"
   ]
  },
  {
   "cell_type": "code",
   "execution_count": 4,
   "id": "6d701ee1-4fd5-47ba-9753-675b064da66d",
   "metadata": {
    "execution": {
     "iopub.execute_input": "2022-01-11T12:32:47.372694Z",
     "iopub.status.busy": "2022-01-11T12:32:47.372388Z",
     "iopub.status.idle": "2022-01-11T12:32:47.375663Z",
     "shell.execute_reply": "2022-01-11T12:32:47.375099Z",
     "shell.execute_reply.started": "2022-01-11T12:32:47.372667Z"
    },
    "tags": []
   },
   "outputs": [],
   "source": [
    "from LACAN import england as en"
   ]
  },
  {
   "cell_type": "code",
   "execution_count": null,
   "id": "003569c0-79bd-44fc-b6ea-5f4ac6bc7ca4",
   "metadata": {
    "tags": []
   },
   "outputs": [],
   "source": [
    "en.parliamentary_questions('Commons')"
   ]
  },
  {
   "cell_type": "markdown",
   "id": "9a46816b-9f93-4863-88ef-9546ac6a1b47",
   "metadata": {},
   "source": [
    "### The House of Commons - By Page\n",
    "\n",
    "- to re-start from page 15745 to the end\n",
    "- data file: house_of_commons_page_15745_log.txt\n",
    "- record: house_of_commons_page_15745.csv"
   ]
  },
  {
   "cell_type": "code",
   "execution_count": 6,
   "id": "9d6c554b-6f5a-4790-8cfb-64027b5be03d",
   "metadata": {
    "execution": {
     "iopub.execute_input": "2022-01-11T12:36:42.984633Z",
     "iopub.status.busy": "2022-01-11T12:36:42.983923Z",
     "iopub.status.idle": "2022-01-11T12:39:36.353214Z",
     "shell.execute_reply": "2022-01-11T12:39:36.352773Z",
     "shell.execute_reply.started": "2022-01-11T12:36:42.984611Z"
    },
    "tags": []
   },
   "outputs": [
    {
     "name": "stdin",
     "output_type": "stream",
     "text": [
      "Start Page (default, 1): 15745\n"
     ]
    },
    {
     "name": "stderr",
     "output_type": "stream",
     "text": [
      "\n",
      "\n",
      "INFO:WDM:\n",
      "\n",
      "====== WebDriver manager ======\n",
      "INFO:WDM:====== WebDriver manager ======\n",
      "Current google-chrome version is 97.0.4692\n",
      "INFO:WDM:Current google-chrome version is 97.0.4692\n",
      "Get LATEST driver version for 97.0.4692\n",
      "INFO:WDM:Get LATEST driver version for 97.0.4692\n",
      "Driver [/Users/yenchiehliao/.wdm/drivers/chromedriver/mac64/97.0.4692.71/chromedriver] found in cache\n",
      "INFO:WDM:Driver [/Users/yenchiehliao/.wdm/drivers/chromedriver/mac64/97.0.4692.71/chromedriver] found in cache\n"
     ]
    },
    {
     "name": "stdout",
     "output_type": "stream",
     "text": [
      "Scraping written questions from The House of Commons\n",
      "==========================================================================\n",
      "Webpage 15745 from The House of Commons is done...\n",
      "Webpage 15746 from The House of Commons is done...\n",
      "Webpage 15747 from The House of Commons is done...\n",
      "Webpage 15748 from The House of Commons is done...\n",
      "Webpage 15749 from The House of Commons is done...\n",
      "Webpage 15750 from The House of Commons is done...\n",
      "Webpage 15751 from The House of Commons is done...\n",
      "Webpage 15752 from The House of Commons is done...\n",
      "Webpage 15753 from The House of Commons is done...\n",
      "Webpage 15754 from The House of Commons is done...\n",
      "Webpage 15755 from The House of Commons is done...\n",
      "==========================================================================\n",
      "The House of Commonsof written questions is finished\n"
     ]
    }
   ],
   "source": [
    "en.parliamentary_questions('Commons-Page')"
   ]
  },
  {
   "cell_type": "markdown",
   "id": "b6e29a67-d756-4db5-a0b5-92d71f47a3ac",
   "metadata": {
    "execution": {
     "iopub.execute_input": "2022-01-11T12:30:05.303156Z",
     "iopub.status.busy": "2022-01-11T12:30:05.302941Z",
     "iopub.status.idle": "2022-01-11T12:30:05.307273Z",
     "shell.execute_reply": "2022-01-11T12:30:05.306341Z",
     "shell.execute_reply.started": "2022-01-11T12:30:05.303131Z"
    }
   },
   "source": [
    "### The House of Lord \n",
    "- data file: house_of_lord.csv\n",
    "- record: house_of_lord.txt"
   ]
  },
  {
   "cell_type": "code",
   "execution_count": null,
   "id": "e01aabf2-6477-48ce-931c-371626cb7658",
   "metadata": {
    "tags": []
   },
   "outputs": [],
   "source": [
    "en.parliamentary_questions('Lord')"
   ]
  },
  {
   "cell_type": "markdown",
   "id": "be48596b-0931-4875-9e17-9d298a094bbc",
   "metadata": {},
   "source": [
    "### The House of Lord - By Page\n",
    "- data file: house_of_lord_2980.csv\n",
    "- record: house_of_lord_2980_log.txt"
   ]
  },
  {
   "cell_type": "code",
   "execution_count": 8,
   "id": "9c02a7fe-ccec-4feb-9850-3d8b5dae4f6c",
   "metadata": {
    "execution": {
     "iopub.execute_input": "2022-01-11T12:46:23.643918Z",
     "iopub.status.busy": "2022-01-11T12:46:23.643214Z",
     "iopub.status.idle": "2022-01-11T12:49:32.174962Z",
     "shell.execute_reply": "2022-01-11T12:49:32.174314Z",
     "shell.execute_reply.started": "2022-01-11T12:46:23.643897Z"
    },
    "tags": []
   },
   "outputs": [
    {
     "name": "stdin",
     "output_type": "stream",
     "text": [
      "Start Page (default, 1): 2980\n"
     ]
    },
    {
     "name": "stderr",
     "output_type": "stream",
     "text": [
      "\n",
      "\n",
      "INFO:WDM:\n",
      "\n",
      "====== WebDriver manager ======\n",
      "INFO:WDM:====== WebDriver manager ======\n",
      "Current google-chrome version is 97.0.4692\n",
      "INFO:WDM:Current google-chrome version is 97.0.4692\n",
      "Get LATEST driver version for 97.0.4692\n",
      "INFO:WDM:Get LATEST driver version for 97.0.4692\n",
      "Driver [/Users/yenchiehliao/.wdm/drivers/chromedriver/mac64/97.0.4692.71/chromedriver] found in cache\n",
      "INFO:WDM:Driver [/Users/yenchiehliao/.wdm/drivers/chromedriver/mac64/97.0.4692.71/chromedriver] found in cache\n"
     ]
    },
    {
     "name": "stdout",
     "output_type": "stream",
     "text": [
      "Scraping written questions from The House of Lord\n",
      "==========================================================================\n",
      "Webpage 2980 from The House of Lord is done...\n",
      "Webpage 2981 from The House of Lord is done...\n",
      "Webpage 2982 from The House of Lord is done...\n",
      "Webpage 2983 from The House of Lord is done...\n",
      "Webpage 2984 from The House of Lord is done...\n",
      "Webpage 2985 from The House of Lord is done...\n",
      "Webpage 2986 from The House of Lord is done...\n",
      "Webpage 2987 from The House of Lord is done...\n",
      "Webpage 2988 from The House of Lord is done...\n",
      "Webpage 2989 from The House of Lord is done...\n",
      "==========================================================================\n",
      "The House of Lordof written questions is finished\n"
     ]
    }
   ],
   "source": [
    "en.parliamentary_questions('Lord-Page')"
   ]
  },
  {
   "cell_type": "markdown",
   "id": "f1bcb898-323c-4966-9cd0-ae6a544cde0f",
   "metadata": {},
   "source": [
    "## Run Scotland (Session 1 to Session 6)\n"
   ]
  },
  {
   "cell_type": "code",
   "execution_count": 13,
   "id": "943c081f-8108-44e0-b66b-04adef8503eb",
   "metadata": {
    "execution": {
     "iopub.execute_input": "2022-01-11T12:51:21.290105Z",
     "iopub.status.busy": "2022-01-11T12:51:21.289927Z",
     "iopub.status.idle": "2022-01-11T12:51:21.295057Z",
     "shell.execute_reply": "2022-01-11T12:51:21.294512Z",
     "shell.execute_reply.started": "2022-01-11T12:51:21.290087Z"
    }
   },
   "outputs": [],
   "source": [
    "from LACAN import scotland as sc"
   ]
  },
  {
   "cell_type": "markdown",
   "id": "7f901f4c-d716-493a-8ac8-c87a475b4e61",
   "metadata": {
    "execution": {
     "iopub.execute_input": "2022-01-11T12:49:47.857212Z",
     "iopub.status.busy": "2022-01-11T12:49:47.857036Z",
     "iopub.status.idle": "2022-01-11T12:49:47.866455Z",
     "shell.execute_reply": "2022-01-11T12:49:47.865496Z",
     "shell.execute_reply.started": "2022-01-11T12:49:47.857194Z"
    },
    "tags": []
   },
   "source": [
    "### Parameters: \n",
    "    \n",
    "-  'Session 1', 'Session 2', 'Session 3', 'Session 4', 'Session 5', 'Current Session', 'All Sessions'\n",
    "\n",
    "-  'Session-1-Page', 'Session-2-Page', 'Session 3-Page', 'Session 4-Page', 'Session 5-Page', 'Current-Session-Page', 'All-Sessions-Page'\n"
   ]
  },
  {
   "cell_type": "markdown",
   "id": "cd8b0f29-474a-47fe-afeb-7bb9c3b1d45f",
   "metadata": {},
   "source": [
    "### Outputs: \n",
    "\n",
    "- file name: scottish_all_sessions_log.csv\n",
    "- record: scottish_all_sessions_log.txt"
   ]
  },
  {
   "cell_type": "code",
   "execution_count": null,
   "id": "958a3b5c-bbda-4829-beef-1a75b652774d",
   "metadata": {
    "tags": []
   },
   "outputs": [],
   "source": [
    "sc.parliamentary_questions('Session 1')"
   ]
  },
  {
   "cell_type": "code",
   "execution_count": null,
   "id": "160ac7c8-0599-4a55-ada0-565d5f214b48",
   "metadata": {},
   "outputs": [],
   "source": [
    "sc.parliamentary_questions('Session 2')"
   ]
  },
  {
   "cell_type": "code",
   "execution_count": null,
   "id": "e00eb288-63a1-40b4-8193-911fe6c3133b",
   "metadata": {},
   "outputs": [],
   "source": [
    "sc.parliamentary_questions('Session 3')"
   ]
  },
  {
   "cell_type": "code",
   "execution_count": null,
   "id": "b5eb28b9-cbdd-495c-94c6-7d2ec2b0bb12",
   "metadata": {},
   "outputs": [],
   "source": [
    "sc.parliamentary_questions('Session 4')"
   ]
  },
  {
   "cell_type": "code",
   "execution_count": null,
   "id": "459ba27b-53f2-4acc-8094-f74000f21409",
   "metadata": {},
   "outputs": [],
   "source": [
    "sc.parliamentary_questions('Session 5')"
   ]
  },
  {
   "cell_type": "code",
   "execution_count": null,
   "id": "ee6d6b2f-2e36-4df0-ab4b-b7df43cbb275",
   "metadata": {},
   "outputs": [],
   "source": [
    "sc.parliamentary_questions('Current Session')"
   ]
  }
 ],
 "metadata": {
  "kernelspec": {
   "display_name": "Python 3 (ipykernel)",
   "language": "python",
   "name": "python3"
  },
  "language_info": {
   "codemirror_mode": {
    "name": "ipython",
    "version": 3
   },
   "file_extension": ".py",
   "mimetype": "text/x-python",
   "name": "python",
   "nbconvert_exporter": "python",
   "pygments_lexer": "ipython3",
   "version": "3.8.2"
  },
  "widgets": {
   "application/vnd.jupyter.widget-state+json": {
    "state": {},
    "version_major": 2,
    "version_minor": 0
   }
  }
 },
 "nbformat": 4,
 "nbformat_minor": 5
}

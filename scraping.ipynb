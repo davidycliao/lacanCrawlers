{
 "cells": [
  {
   "cell_type": "markdown",
   "id": "3259d78b-9afb-4344-b156-2791ac9e49ae",
   "metadata": {},
   "source": [
    "# Import Module for Scraping Scotish Parliarmentary Questions"
   ]
  },
  {
   "cell_type": "code",
   "execution_count": null,
   "id": "fb58a0ac-4e06-4c08-bb73-c57d72811a83",
   "metadata": {
    "tags": []
   },
   "outputs": [],
   "source": [
    "from scotish import scotish_scraper"
   ]
  },
  {
   "cell_type": "markdown",
   "id": "019bc261-5fb7-476b-88db-d66f7da7e499",
   "metadata": {},
   "source": [
    "### 1. To Scrape the First Session\n",
    "\n",
    "- File Name: Scotish_QP_Session 1.csv\n",
    "- Log: Session 1_history_log.txt \n"
   ]
  },
  {
   "cell_type": "code",
   "execution_count": null,
   "id": "e0a930a9-7f83-48ea-86d0-6bb9de64edac",
   "metadata": {
    "tags": []
   },
   "outputs": [],
   "source": [
    "scotish_scraper(session='Session 1')"
   ]
  },
  {
   "cell_type": "markdown",
   "id": "68365855-2126-48a3-a6e4-b41fbfae4b86",
   "metadata": {},
   "source": [
    "### 2.  To Scrape the Second Session\n",
    "\n",
    "- File Name: Scotish_QP_Session 2.csv\n",
    "- Log: Session 2_history_log.txt \n"
   ]
  },
  {
   "cell_type": "code",
   "execution_count": null,
   "id": "ac417856-e306-4606-94a6-57ca96a5651b",
   "metadata": {
    "tags": []
   },
   "outputs": [],
   "source": [
    "scotish_scraper(session='Session 2')"
   ]
  },
  {
   "cell_type": "markdown",
   "id": "3f1f4ed1-dce5-4e01-9f18-81379cea30b8",
   "metadata": {},
   "source": [
    "### 3.  To Scrape the Third Session\n",
    "\n",
    "- File Name: Scotish_QP_Session 3.csv\n",
    "- Log: Session 3_history_log.txt \n",
    "\n"
   ]
  },
  {
   "cell_type": "code",
   "execution_count": null,
   "id": "42c7e6e6-c787-49fc-9146-004b89ad9b13",
   "metadata": {
    "tags": []
   },
   "outputs": [],
   "source": [
    "scotish_scraper(session='Session 3')"
   ]
  },
  {
   "cell_type": "markdown",
   "id": "ca281a4b-ce0b-4999-befd-a468f50bc3fb",
   "metadata": {},
   "source": [
    "### 4. To Scrape the Fourth Session\n",
    "\n",
    "- File Name: Scotish_QP_Session 4.csv\n",
    "- Log: Session 4_history_log.txt "
   ]
  },
  {
   "cell_type": "code",
   "execution_count": null,
   "id": "66364fd3-2d1b-4e6a-a2c3-c5e42d2a02b4",
   "metadata": {},
   "outputs": [],
   "source": [
    "scotish_scraper(session='Session 4')"
   ]
  },
  {
   "cell_type": "markdown",
   "id": "be31d149-a9a2-4022-968e-e872bf98fa39",
   "metadata": {
    "execution": {
     "iopub.execute_input": "2021-12-17T00:48:08.143191Z",
     "iopub.status.busy": "2021-12-17T00:48:08.142966Z",
     "iopub.status.idle": "2021-12-17T00:48:08.146962Z",
     "shell.execute_reply": "2021-12-17T00:48:08.145983Z",
     "shell.execute_reply.started": "2021-12-17T00:48:08.143168Z"
    }
   },
   "source": [
    "### 5. To Scrape the Fourth Session\n",
    "\n",
    "- File Name: Scotish_QP_Session 5.csv\n",
    "- Log: Session 5_history_log.txt "
   ]
  },
  {
   "cell_type": "code",
   "execution_count": null,
   "id": "f7c7a647-78d0-4b09-85bd-c5beb4ea00b8",
   "metadata": {
    "tags": []
   },
   "outputs": [],
   "source": [
    "scotish_scraper(session='Session 5')"
   ]
  },
  {
   "cell_type": "markdown",
   "id": "ed1adf15-294f-4bb5-86b3-35d624c7f27d",
   "metadata": {},
   "source": [
    "### 6. To Scrape the Current Session\n",
    "- File Name: Scotish_QP_Session Current Session.csv\n",
    "- Log: Current Session_history_log.txt "
   ]
  },
  {
   "cell_type": "code",
   "execution_count": null,
   "id": "31407ead-1b09-4dd0-9b7b-ab3459805548",
   "metadata": {
    "tags": []
   },
   "outputs": [],
   "source": [
    "scotish_scraper(session='Current Session')"
   ]
  }
 ],
 "metadata": {
  "kernelspec": {
   "display_name": "Python 3",
   "language": "python",
   "name": "python3"
  },
  "language_info": {
   "codemirror_mode": {
    "name": "ipython",
    "version": 3
   },
   "file_extension": ".py",
   "mimetype": "text/x-python",
   "name": "python",
   "nbconvert_exporter": "python",
   "pygments_lexer": "ipython3",
   "version": "3.8.8"
  }
 },
 "nbformat": 4,
 "nbformat_minor": 5
}

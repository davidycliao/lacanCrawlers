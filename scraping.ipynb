{
 "cells": [
  {
   "cell_type": "markdown",
   "id": "3259d78b-9afb-4344-b156-2791ac9e49ae",
   "metadata": {
    "tags": []
   },
   "source": [
    "# The Web Crawlers for Extracting UK Parliamentary Questions\n",
    "- author: davidycliao\n",
    "- email : davidycliao@gmail.com\n",
    "- date  : 29-Dec-2021\n",
    "- info  : LACAN Project (Legislators between Accountability and Collective Agency) @ University of Bamberg "
   ]
  },
  {
   "cell_type": "markdown",
   "id": "5d8b47e9-b881-4188-a7ba-ed2aa14e332b",
   "metadata": {},
   "source": [
    "<mxGraphModel dx=\"1710\" dy=\"1887\" grid=\"1\" gridSize=\"10\" guides=\"1\" tooltips=\"1\" connect=\"1\" arrows=\"1\" fold=\"1\" page=\"1\" pageScale=\"1\" pageWidth=\"850\" pageHeight=\"1100\" background=\"#ffffff\"><root><mxCell id=\"0\"/><mxCell id=\"1\" parent=\"0\"/><mxCell id=\"106\" value=\"\" style=\"group;shadow=1;\" vertex=\"1\" connectable=\"0\" parent=\"1\"><mxGeometry x=\"-841\" y=\"-800\" width=\"649\" height=\"525\" as=\"geometry\"/></mxCell><mxCell id=\"59\" value=\"\" style=\"shape=mxgraph.flowchart.annotation_2;whiteSpace=wrap;html=1;fillColor=#ffffff;strokeColor=#000000;strokeWidth=2;shadow=1;\" vertex=\"1\" parent=\"106\"><mxGeometry x=\"181\" y=\"180\" width=\"320\" height=\"110\" as=\"geometry\"/></mxCell><mxCell id=\"2\" value=\"&lt;div&gt;&lt;span&gt;&lt;font&gt;&lt;b&gt;&lt;br&gt;&lt;/b&gt;&lt;/font&gt;&lt;/span&gt;&lt;/div&gt;&lt;div&gt;&lt;span&gt;&lt;font&gt;&lt;b&gt;&lt;br&gt;&lt;/b&gt;&lt;/font&gt;&lt;/span&gt;&lt;/div&gt;&lt;h2&gt;Parliament of the United Kingdom&lt;/h2&gt;&lt;div&gt;&lt;h2&gt;&lt;br&gt;&lt;/h2&gt;&lt;/div&gt;\" style=\"rounded=1;whiteSpace=wrap;html=1;fillColor=#FF3333;shadow=1;strokeWidth=2;\" parent=\"106\" vertex=\"1\"><mxGeometry y=\"80\" width=\"190\" height=\"71\" as=\"geometry\"/></mxCell><mxCell id=\"5\" value=\"&lt;h2&gt;Scottish Parliament&lt;/h2&gt;\" style=\"rounded=1;whiteSpace=wrap;html=1;fillColor=#3399FF;shadow=1;strokeWidth=2;\" parent=\"106\" vertex=\"1\"><mxGeometry x=\"1\" y=\"199\" width=\"190\" height=\"70\" as=\"geometry\"/></mxCell><mxCell id=\"9\" value=\"&lt;font style=&quot;font-size: 14px&quot;&gt;&lt;b&gt;The House of Common&lt;/b&gt;&lt;/font&gt;\" style=\"rounded=0;whiteSpace=wrap;html=1;shadow=1;strokeWidth=2;\" parent=\"106\" vertex=\"1\"><mxGeometry x=\"291\" y=\"69\" width=\"150\" height=\"40\" as=\"geometry\"/></mxCell><mxCell id=\"10\" value=\"&lt;font style=&quot;font-size: 14px&quot;&gt;&lt;b&gt;The House of Lord&lt;/b&gt;&lt;/font&gt;\" style=\"rounded=0;whiteSpace=wrap;html=1;shadow=1;strokeWidth=2;\" parent=\"106\" vertex=\"1\"><mxGeometry x=\"291\" y=\"118\" width=\"150\" height=\"40\" as=\"geometry\"/></mxCell><mxCell id=\"12\" value=\"Session 1\" style=\"rounded=0;whiteSpace=wrap;html=1;shadow=1;strokeWidth=2;fontStyle=1\" parent=\"106\" vertex=\"1\"><mxGeometry x=\"499\" y=\"172\" width=\"150\" height=\"17\" as=\"geometry\"/></mxCell><mxCell id=\"28\" value=\"&lt;font style=&quot;font-size: 14px&quot;&gt;&lt;b&gt;&lt;span&gt;June 2014 -&amp;nbsp;&lt;/span&gt;Dec 2021&lt;/b&gt;&lt;/font&gt;\" style=\"rounded=0;whiteSpace=wrap;html=1;shadow=1;strokeWidth=2;\" parent=\"106\" vertex=\"1\"><mxGeometry x=\"499\" y=\"70\" width=\"150\" height=\"40\" as=\"geometry\"/></mxCell><mxCell id=\"29\" value=\"&lt;font style=&quot;font-size: 14px&quot;&gt;&lt;b&gt;June 2014 -&amp;nbsp;Dec 2021&lt;/b&gt;&lt;/font&gt;\" style=\"rounded=0;whiteSpace=wrap;html=1;shadow=1;strokeWidth=2;\" parent=\"106\" vertex=\"1\"><mxGeometry x=\"499\" y=\"119\" width=\"150\" height=\"40\" as=\"geometry\"/></mxCell><mxCell id=\"38\" value=\"Session&amp;nbsp;2\" style=\"rounded=0;whiteSpace=wrap;html=1;shadow=1;strokeWidth=2;fontStyle=1\" parent=\"106\" vertex=\"1\"><mxGeometry x=\"499\" y=\"195\" width=\"150\" height=\"17\" as=\"geometry\"/></mxCell><mxCell id=\"39\" value=\"Session&amp;nbsp;3\" style=\"rounded=0;whiteSpace=wrap;html=1;shadow=1;strokeWidth=2;fontStyle=1\" parent=\"106\" vertex=\"1\"><mxGeometry x=\"499\" y=\"217\" width=\"150\" height=\"17\" as=\"geometry\"/></mxCell><mxCell id=\"40\" value=\"Session&amp;nbsp;4\" style=\"rounded=0;whiteSpace=wrap;html=1;shadow=1;strokeWidth=2;fontStyle=1\" parent=\"106\" vertex=\"1\"><mxGeometry x=\"499\" y=\"239\" width=\"150\" height=\"17\" as=\"geometry\"/></mxCell><mxCell id=\"41\" value=\"Session&amp;nbsp;5\" style=\"rounded=0;whiteSpace=wrap;html=1;shadow=1;strokeWidth=2;fontStyle=1\" parent=\"106\" vertex=\"1\"><mxGeometry x=\"499\" y=\"261\" width=\"150\" height=\"17\" as=\"geometry\"/></mxCell><mxCell id=\"42\" value=\"Session 6\" style=\"rounded=0;whiteSpace=wrap;html=1;shadow=1;strokeWidth=2;fontStyle=1\" parent=\"106\" vertex=\"1\"><mxGeometry x=\"499\" y=\"283\" width=\"150\" height=\"17\" as=\"geometry\"/></mxCell><mxCell id=\"60\" value=\"\" style=\"shape=mxgraph.flowchart.annotation_2;whiteSpace=wrap;html=1;fillColor=#ffffff;strokeColor=#000000;strokeWidth=2;shadow=1;\" vertex=\"1\" parent=\"106\"><mxGeometry x=\"191\" y=\"90\" width=\"100\" height=\"50\" as=\"geometry\"/></mxCell><mxCell id=\"66\" value=\"\" style=\"endArrow=none;html=1;shadow=1;entryX=0;entryY=0.5;labelBorderColor=#000000;spacing=20;fontSize=20;strokeWidth=2;\" edge=\"1\" parent=\"106\" target=\"28\"><mxGeometry width=\"50\" height=\"50\" relative=\"1\" as=\"geometry\"><mxPoint x=\"441\" y=\"90\" as=\"sourcePoint\"/><mxPoint x=\"481\" y=\"54\" as=\"targetPoint\"/></mxGeometry></mxCell><mxCell id=\"70\" value=\"\" style=\"endArrow=none;html=1;shadow=1;entryX=0;entryY=0.5;labelBorderColor=#000000;spacing=20;fontSize=20;strokeWidth=2;\" edge=\"1\" parent=\"106\"><mxGeometry width=\"50\" height=\"50\" relative=\"1\" as=\"geometry\"><mxPoint x=\"441\" y=\"140\" as=\"sourcePoint\"/><mxPoint x=\"499\" y=\"140\" as=\"targetPoint\"/></mxGeometry></mxCell><mxCell id=\"73\" value=\"&lt;div style=&quot;text-align: center&quot;&gt;&lt;b style=&quot;letter-spacing: 0px&quot;&gt;The Flowchart of Scrapers for&amp;nbsp;&lt;/b&gt;&lt;/div&gt;&lt;div style=&quot;text-align: center&quot;&gt;&lt;b&gt;Extracting Parliamentary Questions&amp;nbsp;&lt;/b&gt;&lt;/div&gt;\" style=\"text;html=1;resizable=0;points=[];autosize=1;align=left;verticalAlign=top;spacingTop=-4;fontSize=20;shadow=1;\" vertex=\"1\" parent=\"106\"><mxGeometry x=\"161\" width=\"360\" height=\"50\" as=\"geometry\"/></mxCell><mxCell id=\"75\" value=\"&lt;h2&gt;&lt;span style=&quot;letter-spacing: 0px&quot;&gt;&lt;font style=&quot;font-size: 18px&quot;&gt;The Northern Ireland Assembly&lt;/font&gt;&lt;/span&gt;&lt;br&gt;&lt;/h2&gt;\" style=\"rounded=1;whiteSpace=wrap;html=1;fillColor=#00CC00;shadow=1;strokeWidth=2;\" vertex=\"1\" parent=\"106\"><mxGeometry x=\"10\" y=\"382\" width=\"190\" height=\"70\" as=\"geometry\"/></mxCell><mxCell id=\"82\" value=\"\" style=\"shape=mxgraph.flowchart.annotation_2;whiteSpace=wrap;html=1;fillColor=#ffffff;strokeColor=#000000;strokeWidth=2;shadow=1;\" vertex=\"1\" parent=\"106\"><mxGeometry x=\"201\" y=\"320\" width=\"300\" height=\"200\" as=\"geometry\"/></mxCell><mxCell id=\"89\" value=\"2006-2007\" style=\"rounded=0;whiteSpace=wrap;html=1;shadow=1;strokeWidth=2;fontStyle=1\" vertex=\"1\" parent=\"106\"><mxGeometry x=\"497\" y=\"308\" width=\"150\" height=\"17\" as=\"geometry\"/></mxCell><mxCell id=\"90\" value=\"2007-2008\" style=\"rounded=0;whiteSpace=wrap;html=1;shadow=1;strokeWidth=2;fontStyle=1\" vertex=\"1\" parent=\"106\"><mxGeometry x=\"497\" y=\"331\" width=\"150\" height=\"17\" as=\"geometry\"/></mxCell><mxCell id=\"91\" value=\"2008-2009\" style=\"rounded=0;whiteSpace=wrap;html=1;shadow=1;strokeWidth=2;fontStyle=1\" vertex=\"1\" parent=\"106\"><mxGeometry x=\"497\" y=\"353\" width=\"150\" height=\"17\" as=\"geometry\"/></mxCell><mxCell id=\"92\" value=\"2009-2010\" style=\"rounded=0;whiteSpace=wrap;html=1;shadow=1;strokeWidth=2;fontStyle=1\" vertex=\"1\" parent=\"106\"><mxGeometry x=\"497\" y=\"375\" width=\"150\" height=\"17\" as=\"geometry\"/></mxCell><mxCell id=\"93\" value=\"2010-2011\" style=\"rounded=0;whiteSpace=wrap;html=1;shadow=1;strokeWidth=2;fontStyle=1\" vertex=\"1\" parent=\"106\"><mxGeometry x=\"497\" y=\"397\" width=\"150\" height=\"17\" as=\"geometry\"/></mxCell><mxCell id=\"94\" value=\"2011-2012\" style=\"rounded=0;whiteSpace=wrap;html=1;shadow=1;strokeWidth=2;fontStyle=1\" vertex=\"1\" parent=\"106\"><mxGeometry x=\"497\" y=\"419\" width=\"150\" height=\"17\" as=\"geometry\"/></mxCell><mxCell id=\"95\" value=\"2013-2014\" style=\"rounded=0;whiteSpace=wrap;html=1;shadow=1;strokeWidth=2;fontStyle=1\" vertex=\"1\" parent=\"106\"><mxGeometry x=\"497\" y=\"442\" width=\"150\" height=\"17\" as=\"geometry\"/></mxCell><mxCell id=\"96\" value=\"2015-2016\" style=\"rounded=0;whiteSpace=wrap;html=1;shadow=1;strokeWidth=2;fontStyle=1\" vertex=\"1\" parent=\"106\"><mxGeometry x=\"497\" y=\"464\" width=\"150\" height=\"17\" as=\"geometry\"/></mxCell><mxCell id=\"97\" value=\"2017-2018\" style=\"rounded=0;whiteSpace=wrap;html=1;shadow=1;strokeWidth=2;fontStyle=1\" vertex=\"1\" parent=\"106\"><mxGeometry x=\"497\" y=\"486\" width=\"150\" height=\"17\" as=\"geometry\"/></mxCell><mxCell id=\"99\" value=\"2019-2020\" style=\"rounded=0;whiteSpace=wrap;html=1;shadow=1;strokeWidth=2;fontStyle=1\" vertex=\"1\" parent=\"106\"><mxGeometry x=\"498\" y=\"508\" width=\"150\" height=\"17\" as=\"geometry\"/></mxCell><mxCell id=\"101\" value=\"&lt;h1&gt;&lt;span&gt;🏴󠁧󠁢󠁥󠁮󠁧󠁿&lt;/span&gt;&lt;/h1&gt;\" style=\"text;html=1;strokeColor=none;fillColor=none;align=center;verticalAlign=middle;whiteSpace=wrap;rounded=0;shadow=1;dashed=1;fontSize=20;\" vertex=\"1\" parent=\"106\"><mxGeometry y=\"71\" width=\"40\" height=\"10\" as=\"geometry\"/></mxCell><mxCell id=\"103\" value=\"&lt;h1&gt;&lt;span&gt;🏴󠁧󠁢󠁳󠁣󠁴󠁿&lt;/span&gt;&lt;/h1&gt;\" style=\"text;html=1;strokeColor=none;fillColor=none;align=center;verticalAlign=middle;whiteSpace=wrap;rounded=0;shadow=1;dashed=1;fontSize=20;\" vertex=\"1\" parent=\"106\"><mxGeometry y=\"189\" width=\"40\" height=\"10\" as=\"geometry\"/></mxCell></root></mxGraphModel>"
   ]
  },
  {
   "cell_type": "markdown",
   "id": "dbc5e407-9a8f-4343-a381-9b591a80fa3c",
   "metadata": {
    "execution": {
     "iopub.execute_input": "2021-12-29T07:19:12.950591Z",
     "iopub.status.busy": "2021-12-29T07:19:12.950330Z",
     "iopub.status.idle": "2021-12-29T07:19:13.087539Z",
     "shell.execute_reply": "2021-12-29T07:19:13.086399Z",
     "shell.execute_reply.started": "2021-12-29T07:19:12.950564Z"
    },
    "tags": []
   },
   "source": [
    "<p align=\"center\">\n",
    "    <img src=\"flowchart.png\"  style=\"width:570px;\"/>\n",
    "</p>\n"
   ]
  },
  {
   "cell_type": "markdown",
   "id": "9a814e14-3cda-4c34-9334-b6cecefc4976",
   "metadata": {
    "execution": {
     "iopub.execute_input": "2021-12-29T07:26:06.441219Z",
     "iopub.status.busy": "2021-12-29T07:26:06.440859Z",
     "iopub.status.idle": "2021-12-29T07:26:06.444239Z",
     "shell.execute_reply": "2021-12-29T07:26:06.443485Z",
     "shell.execute_reply.started": "2021-12-29T07:26:06.441194Z"
    },
    "tags": []
   },
   "source": [
    "###  1. Import Modules "
   ]
  },
  {
   "cell_type": "code",
   "execution_count": null,
   "id": "287dde51-6394-409f-a699-f38ca878b962",
   "metadata": {
    "tags": []
   },
   "outputs": [],
   "source": [
    "pip install -r requirements.txt "
   ]
  },
  {
   "cell_type": "code",
   "execution_count": 25,
   "id": "b4fe6c21-696c-482d-923b-2c4f6e7eef0b",
   "metadata": {
    "execution": {
     "iopub.execute_input": "2022-01-09T13:23:01.333774Z",
     "iopub.status.busy": "2022-01-09T13:23:01.333470Z",
     "iopub.status.idle": "2022-01-09T13:23:02.189738Z",
     "shell.execute_reply": "2022-01-09T13:23:02.189049Z",
     "shell.execute_reply.started": "2022-01-09T13:23:01.333751Z"
    },
    "tags": []
   },
   "outputs": [],
   "source": [
    "from LACAN import england as en\n",
    "from LACAN import scotland as sc"
   ]
  },
  {
   "cell_type": "markdown",
   "id": "b290d8c3-5adc-4680-9360-9f7ea9c2c718",
   "metadata": {},
   "source": [
    "### 2. Call Scrapers .... "
   ]
  },
  {
   "cell_type": "code",
   "execution_count": null,
   "id": "6d701ee1-4fd5-47ba-9753-675b064da66d",
   "metadata": {
    "tags": []
   },
   "outputs": [],
   "source": [
    "sc.parliamentary_questions('Current-Session-Page')"
   ]
  },
  {
   "cell_type": "code",
   "execution_count": null,
   "id": "003569c0-79bd-44fc-b6ea-5f4ac6bc7ca4",
   "metadata": {
    "tags": []
   },
   "outputs": [],
   "source": [
    "en.parliamentary_questions('Commons-Page')"
   ]
  }
 ],
 "metadata": {
  "kernelspec": {
   "display_name": "Python 3 (ipykernel)",
   "language": "python",
   "name": "python3"
  },
  "language_info": {
   "codemirror_mode": {
    "name": "ipython",
    "version": 3
   },
   "file_extension": ".py",
   "mimetype": "text/x-python",
   "name": "python",
   "nbconvert_exporter": "python",
   "pygments_lexer": "ipython3",
   "version": "3.8.2"
  },
  "widgets": {
   "application/vnd.jupyter.widget-state+json": {
    "state": {},
    "version_major": 2,
    "version_minor": 0
   }
  }
 },
 "nbformat": 4,
 "nbformat_minor": 5
}
